{
 "cells": [
  {
   "cell_type": "markdown",
   "metadata": {},
   "source": [
    "# Install Dependencies if needed"
   ]
  },
  {
   "cell_type": "code",
   "execution_count": 24,
   "metadata": {},
   "outputs": [
    {
     "name": "stderr",
     "output_type": "stream",
     "text": [
      "Warning message:\n",
      "\"package 'ggplot2' is in use and will not be installed\"Warning message:\n",
      "\"package 'reshape2' is in use and will not be installed\""
     ]
    }
   ],
   "source": [
    "install.packages(\"ggplot2\")\n",
    "install.packages(\"reshape2\")"
   ]
  },
  {
   "cell_type": "markdown",
   "metadata": {},
   "source": [
    "# Use Libraries, read datasets"
   ]
  },
  {
   "cell_type": "code",
   "execution_count": 58,
   "metadata": {},
   "outputs": [],
   "source": [
    "library(\"ggplot2\")\n",
    "library(\"reshape2\")\n",
    "# Read datasets\n",
    "adaptive <- read.delim(\"bnoise/adaptive.txt\", row.names=NULL)\n",
    "fixed <- read.delim(\"bnoise/fixed.txt\", row.names=NULL)\n",
    "selective <- read.delim(\"bnoise/selective.txt\", row.names=NULL)\n"
   ]
  },
  {
   "cell_type": "markdown",
   "metadata": {},
   "source": [
    "# Line plot of the change in error values based on streamline skips\n",
    "\n",
    "Subset dataset to keep only rows where the stream line skips changes, and node skips = 1"
   ]
  },
  {
   "cell_type": "code",
   "execution_count": 64,
   "metadata": {},
   "outputs": [
    {
     "data": {
      "text/html": [
       "<table>\n",
       "<thead><tr><th></th><th scope=col>lines</th><th scope=col>mag.err</th><th scope=col>dir.err</th><th scope=col>xyerr</th></tr></thead>\n",
       "<tbody>\n",
       "\t<tr><th scope=row>1</th><td> 1      </td><td>0.818654</td><td>0.212929</td><td>1.04977 </td></tr>\n",
       "\t<tr><th scope=row>6</th><td> 2      </td><td>0.822399</td><td>0.233454</td><td>1.05527 </td></tr>\n",
       "\t<tr><th scope=row>11</th><td> 4      </td><td>0.820294</td><td>0.263285</td><td>1.05690 </td></tr>\n",
       "\t<tr><th scope=row>16</th><td> 8      </td><td>0.818852</td><td>0.391523</td><td>1.06560 </td></tr>\n",
       "\t<tr><th scope=row>21</th><td>16      </td><td>0.815513</td><td>0.439764</td><td>1.07397 </td></tr>\n",
       "</tbody>\n",
       "</table>\n"
      ],
      "text/latex": [
       "\\begin{tabular}{r|llll}\n",
       "  & lines & mag.err & dir.err & xyerr\\\\\n",
       "\\hline\n",
       "\t1 &  1       & 0.818654 & 0.212929 & 1.04977 \\\\\n",
       "\t6 &  2       & 0.822399 & 0.233454 & 1.05527 \\\\\n",
       "\t11 &  4       & 0.820294 & 0.263285 & 1.05690 \\\\\n",
       "\t16 &  8       & 0.818852 & 0.391523 & 1.06560 \\\\\n",
       "\t21 & 16       & 0.815513 & 0.439764 & 1.07397 \\\\\n",
       "\\end{tabular}\n"
      ],
      "text/markdown": [
       "\n",
       "| <!--/--> | lines | mag.err | dir.err | xyerr |\n",
       "|---|---|---|---|---|\n",
       "| 1 |  1       | 0.818654 | 0.212929 | 1.04977  |\n",
       "| 6 |  2       | 0.822399 | 0.233454 | 1.05527  |\n",
       "| 11 |  4       | 0.820294 | 0.263285 | 1.05690  |\n",
       "| 16 |  8       | 0.818852 | 0.391523 | 1.06560  |\n",
       "| 21 | 16       | 0.815513 | 0.439764 | 1.07397  |\n",
       "\n"
      ],
      "text/plain": [
       "   lines mag.err  dir.err  xyerr  \n",
       "1   1    0.818654 0.212929 1.04977\n",
       "6   2    0.822399 0.233454 1.05527\n",
       "11  4    0.820294 0.263285 1.05690\n",
       "16  8    0.818852 0.391523 1.06560\n",
       "21 16    0.815513 0.439764 1.07397"
      ]
     },
     "metadata": {},
     "output_type": "display_data"
    },
    {
     "data": {
      "image/png": "[encoded data removed]",
      "text/plain": [
       "plot without title"
      ]
     },
     "metadata": {},
     "output_type": "display_data"
    }
   ],
   "source": [
    "adaptive_lines_only <- subset(adaptive, nodes == 1)\n",
    "adaptive_lines_only$nodes <- NULL\n",
    "adaptive_lines_only\n",
    "#process data into long type\n",
    "adaptive_lines_only_long <- melt(adaptive_lines_only, id=\"lines\")\n",
    "#draw line graph\n",
    "ggplot(data=adaptive_lines_only_long,\n",
    "       aes(x=lines, y=value, colour=variable)) +\n",
    "       geom_line()"
   ]
  },
  {
   "cell_type": "markdown",
   "metadata": {},
   "source": [
    "# Line plot of the change in error values based on node skips\n",
    "\n",
    "Subset dataset to keep only rows where the stream line skips = x, and node skips changes"
   ]
  },
  {
   "cell_type": "markdown",
   "metadata": {},
   "source": [
    "## Streamline skip = 1"
   ]
  },
  {
   "cell_type": "code",
   "execution_count": 65,
   "metadata": {},
   "outputs": [
    {
     "data": {
      "text/html": [
       "<table>\n",
       "<thead><tr><th scope=col>nodes</th><th scope=col>mag.err</th><th scope=col>dir.err</th><th scope=col>xyerr</th></tr></thead>\n",
       "<tbody>\n",
       "\t<tr><td> 1      </td><td>0.818654</td><td>0.212929</td><td>1.04977 </td></tr>\n",
       "\t<tr><td> 2      </td><td>0.810754</td><td>0.195897</td><td>1.03978 </td></tr>\n",
       "\t<tr><td> 4      </td><td>0.809701</td><td>0.196999</td><td>1.03843 </td></tr>\n",
       "\t<tr><td> 8      </td><td>0.808980</td><td>0.193178</td><td>1.03755 </td></tr>\n",
       "\t<tr><td>16      </td><td>0.808423</td><td>0.185138</td><td>1.03733 </td></tr>\n",
       "</tbody>\n",
       "</table>\n"
      ],
      "text/latex": [
       "\\begin{tabular}{r|llll}\n",
       " nodes & mag.err & dir.err & xyerr\\\\\n",
       "\\hline\n",
       "\t  1       & 0.818654 & 0.212929 & 1.04977 \\\\\n",
       "\t  2       & 0.810754 & 0.195897 & 1.03978 \\\\\n",
       "\t  4       & 0.809701 & 0.196999 & 1.03843 \\\\\n",
       "\t  8       & 0.808980 & 0.193178 & 1.03755 \\\\\n",
       "\t 16       & 0.808423 & 0.185138 & 1.03733 \\\\\n",
       "\\end{tabular}\n"
      ],
      "text/markdown": [
       "\n",
       "| nodes | mag.err | dir.err | xyerr |\n",
       "|---|---|---|---|\n",
       "|  1       | 0.818654 | 0.212929 | 1.04977  |\n",
       "|  2       | 0.810754 | 0.195897 | 1.03978  |\n",
       "|  4       | 0.809701 | 0.196999 | 1.03843  |\n",
       "|  8       | 0.808980 | 0.193178 | 1.03755  |\n",
       "| 16       | 0.808423 | 0.185138 | 1.03733  |\n",
       "\n"
      ],
      "text/plain": [
       "  nodes mag.err  dir.err  xyerr  \n",
       "1  1    0.818654 0.212929 1.04977\n",
       "2  2    0.810754 0.195897 1.03978\n",
       "3  4    0.809701 0.196999 1.03843\n",
       "4  8    0.808980 0.193178 1.03755\n",
       "5 16    0.808423 0.185138 1.03733"
      ]
     },
     "metadata": {},
     "output_type": "display_data"
    },
    {
     "data": {
      "image/png": "[encoded data removed]",
      "text/plain": [
       "plot without title"
      ]
     },
     "metadata": {},
     "output_type": "display_data"
    }
   ],
   "source": [
    "# get values where line = 1\n",
    "adaptive_line1_nodes_only <- subset(adaptive, lines == 1)#process data into long type\n",
    "# remove line column\n",
    "adaptive_line1_nodes_only$lines <- NULL\n",
    "adaptive_line1_nodes_only\n",
    "# melt into long values\n",
    "adaptive_line1_nodes_only_long <- melt(adaptive_line1_nodes_only, id=\"nodes\")\n",
    "#draw line graph\n",
    "ggplot(data=adaptive_line1_nodes_only_long,\n",
    "       aes(x=nodes, y=value, colour=variable)) +\n",
    "       geom_line()"
   ]
  },
  {
   "cell_type": "markdown",
   "metadata": {},
   "source": [
    "## Streamline skip = 8\n",
    "Notice that there are also very little changes in error values"
   ]
  },
  {
   "cell_type": "code",
   "execution_count": 66,
   "metadata": {},
   "outputs": [
    {
     "data": {
      "image/png": "[encoded data removed]",
      "text/plain": [
       "plot without title"
      ]
     },
     "metadata": {},
     "output_type": "display_data"
    }
   ],
   "source": [
    "# get values where line = 8\n",
    "adaptive_line1_nodes_only <- subset(adaptive, lines == 16)#process data into long type\n",
    "# remove line column\n",
    "adaptive_line1_nodes_only$lines <- NULL\n",
    "# melt into long values\n",
    "adaptive_line1_nodes_only_long <- melt(adaptive_line1_nodes_only, id=\"nodes\")\n",
    "#draw line graph\n",
    "ggplot(data=adaptive_line1_nodes_only_long,\n",
    "       aes(x=nodes, y=value, colour=variable)) +\n",
    "       geom_line()"
   ]
  },
  {
   "cell_type": "code",
   "execution_count": null,
   "metadata": {},
   "outputs": [],
   "source": []
  },
  {
   "cell_type": "code",
   "execution_count": null,
   "metadata": {},
   "outputs": [],
   "source": [
    "keep <- subset(adaptive_lines_only_long, variable==\"mag.err\")\n",
    "#draw line graph\n",
    "ggplot(data=keep,\n",
    "       aes(x=lines, y=value, colour=variable)) +\n",
    "       geom_line()\n",
    "\n",
    "keep <- subset(adaptive_lines_only_long, variable==\"dir.err\")\n",
    "#draw line graph\n",
    "ggplot(data=keep,\n",
    "       aes(x=lines, y=value, colour=variable)) +\n",
    "       geom_line()\n",
    "\n",
    "keep <- subset(adaptive_lines_only_long, variable==\"xyerr\")\n",
    "#draw line graph\n",
    "ggplot(data=keep,\n",
    "       aes(x=lines, y=value, colour=variable)) +\n",
    "       geom_line()\n"
   ]
  }
 ],
 "metadata": {
  "kernelspec": {
   "display_name": "R",
   "language": "R",
   "name": "ir"
  },
  "language_info": {
   "codemirror_mode": "r",
   "file_extension": ".r",
   "mimetype": "text/x-r-source",
   "name": "R",
   "pygments_lexer": "r",
   "version": "3.6.1"
  }
 },
 "nbformat": 4,
 "nbformat_minor": 2
}
